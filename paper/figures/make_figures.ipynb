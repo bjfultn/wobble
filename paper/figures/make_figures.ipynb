{
 "cells": [
  {
   "cell_type": "code",
   "execution_count": null,
   "metadata": {},
   "outputs": [],
   "source": [
    "import wobble\n",
    "import matplotlib as mpl\n",
    "import matplotlib.pyplot as plt\n",
    "import numpy as np"
   ]
  },
  {
   "cell_type": "code",
   "execution_count": null,
   "metadata": {},
   "outputs": [],
   "source": [
    "mpl.rcParams['xtick.top'] = True\n",
    "mpl.rcParams['xtick.direction'] = 'in'\n",
    "mpl.rcParams['ytick.direction'] = 'in'\n",
    "mpl.rcParams['xtick.labelsize'] = 12\n",
    "mpl.rcParams['ytick.labelsize'] = 12\n",
    "mpl.rcParams['ytick.major.size'] = 5\n",
    "mpl.rcParams['xtick.major.size'] = 5\n",
    "mpl.rcParams['ytick.minor.size'] = 3\n",
    "mpl.rcParams['xtick.minor.size'] = 3"
   ]
  },
  {
   "cell_type": "code",
   "execution_count": null,
   "metadata": {},
   "outputs": [],
   "source": [
    "MODEL_T_COLOR = '#1f77b4'\n",
    "MODEL_STAR_COLOR = '#d62728'\n",
    "DATA_COLOR = 'k'\n",
    "COLOR3 = '#ff7f0e'"
   ]
  },
  {
   "cell_type": "code",
   "execution_count": null,
   "metadata": {},
   "outputs": [],
   "source": [
    "speed_of_light = 2.99792458e8   # m/s\n",
    "\n",
    "def doppler(v):\n",
    "    frac = (1. - v/speed_of_light) / (1. + v/speed_of_light)\n",
    "    return np.sqrt(frac)"
   ]
  },
  {
   "cell_type": "markdown",
   "metadata": {},
   "source": [
    "## 51 Peg:"
   ]
  },
  {
   "cell_type": "code",
   "execution_count": null,
   "metadata": {},
   "outputs": [],
   "source": [
    "results_51peg = wobble.Results(filename='/Users/mbedell/python/wobble/results/results_51peg_Kstar0_Kt3.hdf5')"
   ]
  },
  {
   "cell_type": "code",
   "execution_count": null,
   "metadata": {},
   "outputs": [],
   "source": [
    "print(results_51peg.N)"
   ]
  },
  {
   "cell_type": "markdown",
   "metadata": {},
   "source": [
    "### FIGURE: data and models for random epoch"
   ]
  },
  {
   "cell_type": "code",
   "execution_count": null,
   "metadata": {},
   "outputs": [],
   "source": [
    "o = [12,53,67]\n",
    "r = np.arange(72)[np.isin(results_51peg.orders,o)] # index into results to get desired orders\n",
    "e = 7 # epoch\n",
    "n = np.where(results_51peg.epochs == e)[0][0] # index into results to get desired epoch\n",
    "\n",
    "data_51peg = wobble.Data('51peg_e2ds.hdf5', filepath='/Users/mbedell/python/wobble/data/', \n",
    "                   orders=o, epochs=[e])\n",
    "\n",
    "xs = np.exp(data_51peg.xs)\n",
    "ys = np.exp(data_51peg.ys)\n",
    "mask = np.array(data_51peg.ivars) <= 1.e-8"
   ]
  },
  {
   "cell_type": "code",
   "execution_count": null,
   "metadata": {},
   "outputs": [],
   "source": [
    "xstart = [4095, 5728, 6548]\n",
    "xend = [4115, 5748, 6568]"
   ]
  },
  {
   "cell_type": "code",
   "execution_count": null,
   "metadata": {},
   "outputs": [],
   "source": [
    "fig, axes = plt.subplots(6, 1, gridspec_kw = {'height_ratios':[4, 1, 4, 1, 4, 1]}, figsize=(10,16), sharex=False)\n",
    "for i,r0 in enumerate(r):\n",
    "    ax, ax2 = axes[2*i], axes[2*i+1]\n",
    "    xs = np.ravel(np.exp(data_51peg.xs[i]))\n",
    "    ys = np.ravel(np.exp(data_51peg.ys[i]))\n",
    "    mask = np.ravel(data_51peg.ivars[i]) <= 1.e-8\n",
    "    resids = ys - np.exp(results_51peg.star_ys_predicted[r0][n] \n",
    "                            + results_51peg.tellurics_ys_predicted[r0][n])\n",
    "    ax.scatter(xs, ys, marker=\".\", alpha=0.5, c=DATA_COLOR, label='data', s=40)\n",
    "    ax.scatter(xs[mask], ys[mask], marker=\".\", alpha=1., c='white', s=20)\n",
    "    ax.plot(xs, np.exp(results_51peg.star_ys_predicted[r0][n]), \n",
    "                color=MODEL_STAR_COLOR, label='star model', lw=1.8, alpha=0.85)\n",
    "    ax.plot(xs, np.exp(results_51peg.tellurics_ys_predicted[r0][n]), \n",
    "                color=MODEL_T_COLOR, label='tellurics model', lw=1.8, alpha=0.85)\n",
    "\n",
    "    ax2.scatter(xs, resids, marker=\".\", alpha=0.5, c=DATA_COLOR, s=40)\n",
    "    ax2.scatter(xs[mask], resids[mask], marker=\".\", alpha=1., c='white', s=20)\n",
    "    \n",
    "\n",
    "    if i == 1:\n",
    "        ax.set_ylim([0.5,1.05])\n",
    "        ax.set_yticks(np.arange(0.6,1.1,0.2))\n",
    "        ax.set_yticks(np.arange(0.5,1.05,0.05), minor=True)\n",
    "    else:\n",
    "        ax.set_ylim([0.1,1.1])\n",
    "        ax.set_yticks(np.arange(0.2,1.1,0.2))\n",
    "        ax.set_yticks(np.arange(0.1,1.15,0.05), minor=True)\n",
    "    ax.set_xlim([xstart[i],xend[i]])\n",
    "    ax.set_xticks(np.arange(round(xstart[i] + 5,-1), xend[i], 5))\n",
    "    ax.set_xticks(np.arange(xstart[i], xend[i]+1, 1), minor=True)\n",
    "    #if i<2:\n",
    "    ax2.set_ylim([-0.06, 0.06])\n",
    "    ax2.set_yticks(np.arange(-0.05,0.06,0.05))\n",
    "    ax2.set_yticks(np.arange(-0.06,0.06,0.01), minor=True)\n",
    "    ax2.set_xlim([xstart[i],xend[i]])\n",
    "    ax2.set_xticks(np.arange(round(xstart[i] + 5,-1), xend[i], 5))\n",
    "    ax2.set_xticks(np.arange(xstart[i], xend[i]+1, 1), minor=True)\n",
    "    ax.set_xticklabels('')\n",
    "    ax.set_ylabel('Normalized Flux', fontsize=12)\n",
    "    ax2.set_ylabel('Residuals', fontsize=12)\n",
    "    \n",
    "ax2.set_xlabel(r'Wavelength ($\\AA$)', fontsize=14)\n",
    "fig.tight_layout()\n",
    "#fig.subplots_adjust(hspace=0.05)\n",
    "plt.savefig('51peg_multispectrum.png')\n",
    "plt.savefig('51peg_multispectrum.pdf')"
   ]
  },
  {
   "cell_type": "markdown",
   "metadata": {},
   "source": [
    "### FIGURE: orbit fit"
   ]
  },
  {
   "cell_type": "code",
   "execution_count": null,
   "metadata": {},
   "outputs": [],
   "source": [
    "rvs = results_51peg.star_time_rvs + results_51peg.bervs - results_51peg.drifts\n",
    "pipeline_rvs = results_51peg.pipeline_rvs + results_51peg.bervs\n",
    "sigs = results_51peg.star_time_sigmas\n",
    "pipeline_sigs = results_51peg.pipeline_sigmas\n",
    "dates = np.copy(results_51peg.dates)"
   ]
  },
  {
   "cell_type": "code",
   "execution_count": null,
   "metadata": {},
   "outputs": [],
   "source": [
    "rvs -= np.median(rvs)\n",
    "pipeline_rvs -= np.median(pipeline_rvs)\n",
    "dates -= np.median(dates)"
   ]
  },
  {
   "cell_type": "code",
   "execution_count": null,
   "metadata": {},
   "outputs": [],
   "source": [
    "import pymc3 as pm\n",
    "import theano.tensor as tt\n",
    "import exoplanet as xo\n",
    "\n",
    "Mstar = 1.11 # Msun"
   ]
  },
  {
   "cell_type": "code",
   "execution_count": null,
   "metadata": {},
   "outputs": [],
   "source": [
    "t, rv, rv_err = dates, rvs, sigs\n",
    "\n",
    "with pm.Model() as model:\n",
    "\n",
    "    # Parameters\n",
    "    logK = pm.Normal(\"logK\", mu=np.log(55.11), sd=10.0)\n",
    "    P = pm.Normal(\"P\", mu=4.23078, sd=0.001)\n",
    "    t0 = pm.Normal(\"t0\", mu=np.median(t)+2., sd=50.)\n",
    "    ecc = pm.Uniform(\"e\", lower=0, upper=.99, testval=0.001)\n",
    "    omega = xo.distributions.Angle(\"omega\", testval=0.)\n",
    "    logs = pm.Normal(\"logs\", mu=np.log(np.median(rv_err)), sd=5.0)\n",
    "    rv0 = pm.Normal(\"rv0\", mu=0.0, sd=20.0, testval=0.)\n",
    "    \n",
    "    # Sanity check bounds\n",
    "    pm.Potential(\"logK_bound\", tt.switch(logK < -2., -np.inf, 0.0))\n",
    "    pm.Potential(\"P_bound\", tt.switch(P <= 0, -np.inf, 0.0))\n",
    "\n",
    "    # Deterministic transformations\n",
    "    K = pm.Deterministic(\"K\", tt.exp(logK))\n",
    "    s2 = tt.exp(2*logs)\n",
    "    Mp = pm.Deterministic(\"Mp\", K * tt.sqrt(1. - ecc**2.) * Mstar**(-2./3.) * P**(1./3.) / 203.) # assumes Mp << Mstar\n",
    "\n",
    "    # Set up the orbit\n",
    "    orbit = xo.orbits.KeplerianOrbit(\n",
    "        period=P, t0=t0,\n",
    "        ecc=ecc, omega=omega)\n",
    "\n",
    "    # Set up the RV model and save it as a deterministic\n",
    "    # for plotting purposes later\n",
    "    vrad = orbit.get_radial_velocity(t, K=K)\n",
    "    pm.Deterministic(\"vrad\", vrad)\n",
    "    \n",
    "    bkg = pm.Deterministic(\"bkg\", rv0) # just in case...    \n",
    "    rv_model = pm.Deterministic(\"rv_model\", vrad + bkg)\n",
    "    \n",
    "    t_all = np.linspace(t.min()-5, t.max()+5, 1000)\n",
    "    vrad_pred = orbit.get_radial_velocity(t_all, K=K)\n",
    "    pm.Deterministic(\"vrad_pred\", vrad_pred)\n",
    "    rv_model_pred = pm.Deterministic(\"rv_model_pred\",\n",
    "                                     vrad_pred + bkg)\n",
    "\n",
    "    # Compute the phased RV signal\n",
    "    phase = np.linspace(-0.1, 1.1, 500)\n",
    "    rvphase = orbit.get_radial_velocity(phase * P, K=K)\n",
    "    pm.Deterministic(\"rvphase\", rvphase)\n",
    "\n",
    "    # Condition on the observations\n",
    "    pm.Normal(\"obs\", mu=rv_model, sd=tt.sqrt(tt.sqr(rv_err) + s2), observed=rv)\n",
    "    par_wobble = pm.find_MAP()\n",
    "    \n",
    "    # Now do the trace\n",
    "    sampler = xo.PyMC3Sampler(finish=200)\n",
    "    burnin = sampler.tune(tune=4000, start=par_wobble)\n",
    "    trace_wobble = sampler.sample(draws=5000)"
   ]
  },
  {
   "cell_type": "code",
   "execution_count": null,
   "metadata": {},
   "outputs": [],
   "source": [
    "t, rv, rv_err = dates, pipeline_rvs, pipeline_sigs\n",
    "with pm.Model() as model:\n",
    "\n",
    "    # Parameters\n",
    "    logK = pm.Normal(\"logK\", mu=np.log(55.11), sd=10.0)\n",
    "    P = pm.Normal(\"P\", mu=4.23078, sd=0.001)\n",
    "    t0 = pm.Normal(\"t0\", mu=np.median(t)+2., sd=50.)\n",
    "    ecc = pm.Uniform(\"e\", lower=0, upper=.99, testval=0.001)\n",
    "    omega = xo.distributions.Angle(\"omega\", testval=0.)\n",
    "    logs = pm.Normal(\"logs\", mu=np.log(np.median(rv_err)), sd=5.0)\n",
    "    rv0 = pm.Normal(\"rv0\", mu=0.0, sd=20.0, testval=0.)\n",
    "    \n",
    "    # Sanity check bounds\n",
    "    pm.Potential(\"logK_bound\", tt.switch(logK < -2., -np.inf, 0.0))\n",
    "    pm.Potential(\"P_bound\", tt.switch(P <= 0, -np.inf, 0.0))\n",
    "\n",
    "    # Deterministic transformations\n",
    "    K = pm.Deterministic(\"K\", tt.exp(logK))\n",
    "    s2 = tt.exp(2*logs)\n",
    "    Mp = pm.Deterministic(\"Mp\", K * tt.sqrt(1. - ecc**2.) * Mstar**(-2./3.) * P**(1./3.) / 203.) # assumes Mp << Mstar\n",
    "    \n",
    "    # Set up the orbit\n",
    "    orbit = xo.orbits.KeplerianOrbit(\n",
    "        period=P, t0=t0,\n",
    "        ecc=ecc, omega=omega)\n",
    "\n",
    "    # Set up the RV model and save it as a deterministic\n",
    "    # for plotting purposes later\n",
    "    vrad = orbit.get_radial_velocity(t, K=K)\n",
    "    pm.Deterministic(\"vrad\", vrad)\n",
    "    \n",
    "    bkg = pm.Deterministic(\"bkg\", rv0) # just in case...    \n",
    "    rv_model = pm.Deterministic(\"rv_model\", vrad + bkg)\n",
    "    \n",
    "    t_all = np.linspace(t.min()-5, t.max()+5, 1000)\n",
    "    vrad_pred = orbit.get_radial_velocity(t_all, K=K)\n",
    "    pm.Deterministic(\"vrad_pred\", vrad_pred)\n",
    "    rv_model_pred = pm.Deterministic(\"rv_model_pred\",\n",
    "                                     vrad_pred + bkg)\n",
    "\n",
    "    # Compute the phased RV signal\n",
    "    phase = np.linspace(-0.1, 1.1, 500)\n",
    "    rvphase = orbit.get_radial_velocity(phase * P, K=K)\n",
    "    pm.Deterministic(\"rvphase\", rvphase)\n",
    "\n",
    "    # Condition on the observations\n",
    "    pm.Normal(\"obs\", mu=rv_model, sd=tt.sqrt(tt.sqr(rv_err) + s2), observed=rv)\n",
    "    par_pipeline = pm.find_MAP()\n",
    "    \n",
    "    # Now do the trace\n",
    "    sampler = xo.PyMC3Sampler(finish=200)\n",
    "    burnin = sampler.tune(tune=4000, start=par_pipeline)\n",
    "    trace_pipeline = sampler.sample(draws=5000)"
   ]
  },
  {
   "cell_type": "code",
   "execution_count": null,
   "metadata": {},
   "outputs": [],
   "source": [
    "printname = {'K': '$K$ & m s$^{-1}$',\n",
    "             'P': '$P$ & days',\n",
    "             't0': '$t_0$ & JD',\n",
    "             'e' : '$e$ & $-$ ',\n",
    "             'omega' : '$\\omega$ & rad',\n",
    "             'logs' : '$s$ & m s$^{-1}$',\n",
    "             'Mp' : '$m_p$ sin$i$ & $M_J$'\n",
    "            }\n",
    "\n",
    "for param in ['K', 'P', 't0', 'e', 'omega', 'logs']:\n",
    "    pred_wobble = np.percentile(trace_wobble[param], [16, 50, 84], axis=0)\n",
    "    pred_pipeline = np.percentile(trace_pipeline[param], [16, 50, 84], axis=0)\n",
    "    if param == 'logs':\n",
    "        pred_wobble = np.exp(pred_wobble)\n",
    "        pred_pipeline = np.exp(pred_pipeline)\n",
    "    if param == 't0':\n",
    "        pred_wobble += np.median(results_51peg.dates)\n",
    "        pred_pipeline += np.median(results_51peg.dates)\n",
    "    wobble_vals = pred_wobble[1], pred_wobble[2] - pred_wobble[1], pred_wobble[1] - pred_wobble[0]\n",
    "    pipeline_vals = pred_pipeline[1], pred_pipeline[2] - pred_pipeline[1], pred_pipeline[1] - pred_pipeline[0]\n",
    "    if param == 'P':\n",
    "        print('{0} & ${1:.4f}^{{+{2:.4f}}}_{{-{3:.4f}}}$ & ${4:.4f}^{{+{5:.4f}}}_{{-{6:.4f}}}$ \\\\\\\\'.format(printname[param], \n",
    "            *wobble_vals, *pipeline_vals))\n",
    "    else:\n",
    "        print('{0} & ${1:.2f}^{{+{2:.2f}}}_{{-{3:.2f}}}$ & ${4:.2f}^{{+{5:.2f}}}_{{-{6:.2f}}}$ \\\\\\\\'.format(printname[param], \n",
    "            *wobble_vals, *pipeline_vals))"
   ]
  },
  {
   "cell_type": "code",
   "execution_count": null,
   "metadata": {},
   "outputs": [],
   "source": [
    "fig, ((ax1, ax2), (ax3, ax4)) = plt.subplots(2, 2, gridspec_kw = {'height_ratios':[4, 1]}, \n",
    "                                         figsize=(8,5), sharex=True)\n",
    "\n",
    "pred_wobble = np.percentile(trace_wobble[\"rvphase\"], [16, 50, 84], axis=0)\n",
    "phase_wobble = (dates % par_wobble[\"P\"])/par_wobble[\"P\"]\n",
    "ax1.errorbar(phase_wobble, rvs - par_wobble['bkg'], \n",
    "             sigs, fmt='o', color=DATA_COLOR, alpha=0.5, ms=3)\n",
    "\n",
    "ax1.plot(phase, pred_wobble[1], color=COLOR3)\n",
    "art1 = ax1.fill_between(phase, pred_wobble[0], pred_wobble[2], color=COLOR3, alpha=0.3)\n",
    "art1.set_edgecolor(\"none\")\n",
    "\n",
    "ax3.errorbar(phase_wobble, rvs - par_wobble['rv_model'], sigs, fmt='o', \n",
    "             color=DATA_COLOR, alpha=0.5, ms=3)\n",
    "ax3.plot(phase, np.zeros_like(phase), color=COLOR3)\n",
    "\n",
    "pred_pipeline = np.percentile(trace_pipeline[\"rvphase\"], [16, 50, 84], axis=0)\n",
    "phase_pipeline = (dates % par_pipeline[\"P\"])/par_pipeline[\"P\"]\n",
    "ax2.errorbar(phase_pipeline, pipeline_rvs - par_pipeline['bkg'], \n",
    "             pipeline_sigs, fmt='o', color=DATA_COLOR, alpha=0.5, ms=3)\n",
    "ax2.plot(phase, pred_pipeline[1], color=COLOR3)\n",
    "art2 = ax2.fill_between(phase, pred_pipeline[0], pred_pipeline[2], color=COLOR3, alpha=0.3)\n",
    "art2.set_edgecolor(\"none\")\n",
    "\n",
    "ax4.errorbar(phase_pipeline, pipeline_rvs - par_pipeline['rv_model'], pipeline_sigs, fmt='o', \n",
    "             color=DATA_COLOR, alpha=0.5, ms=3)\n",
    "ax4.plot(phase, np.zeros_like(phase), color=COLOR3)\n",
    "\n",
    "ax1.set_ylabel(r'RV (m s$^{-1}$)', fontsize=16)\n",
    "ax1.set_ylim([-62,62])\n",
    "ax2.set_ylim([-62,62])\n",
    "ax3.set_ylim([-4, 4])\n",
    "ax3.set_xlim([-0.01,1.01])\n",
    "ax4.set_ylim([-4, 4])\n",
    "ax4.set_xlim([-0.01,1.01])\n",
    "\n",
    "ax2.set_yticklabels('')\n",
    "ax4.set_yticklabels('')\n",
    "\n",
    "ax3.set_ylabel('Residuals', fontsize=14)\n",
    "ax3.set_xlabel('Orbital Phase', fontsize=14)\n",
    "ax4.set_xlabel('Orbital Phase', fontsize=14)\n",
    "\n",
    "ax1.text(0.6, 40, 'wobble', fontsize=14)\n",
    "ax2.text(0.5, 40, 'HARPS pipeline', fontsize=14)\n",
    "\n",
    "\n",
    "fig.tight_layout()\n",
    "fig.subplots_adjust(hspace=.05, wspace=.08)\n",
    "plt.savefig('51peg_planet.png')\n",
    "plt.savefig('51peg_planet.pdf')"
   ]
  },
  {
   "cell_type": "markdown",
   "metadata": {},
   "source": [
    "## tellurics model \n",
    "#### (still using 51 Peg data)"
   ]
  },
  {
   "cell_type": "markdown",
   "metadata": {},
   "source": [
    "### FIGURE: telluric basis vectors"
   ]
  },
  {
   "cell_type": "code",
   "execution_count": null,
   "metadata": {},
   "outputs": [],
   "source": [
    "r = 63\n",
    "xlim = [6275,6295]\n",
    "fig, (ax1, ax2) = plt.subplots(2, 1, gridspec_kw = {'height_ratios':[1, 1]}, \n",
    "                               figsize=(8,5), sharex=True)\n",
    "ax1.plot(np.exp(results_51peg.tellurics_template_xs[r]),\n",
    "       np.exp(results_51peg.tellurics_template_ys[r]), c='k')\n",
    "for k in range(results_51peg.tellurics_K[r]):\n",
    "    ax2.plot(np.exp(results_51peg.tellurics_template_xs[r]), \n",
    "            np.exp(results_51peg.tellurics_basis_vectors[r][k]) - 0.005*k)\n",
    "ax1.set_xlim(xlim)\n",
    "ax1.set_ylim([0.65,1.05])\n",
    "ax2.set_xlim(xlim)\n",
    "ax1.set_ylabel('Template Spectrum', fontsize=14)\n",
    "ax2.set_xlabel(r'Wavelength ($\\AA$)', fontsize=14)\n",
    "ax2.set_ylabel(r'Basis Vectors + $\\Delta$', fontsize=14)\n",
    "ax2.set_yticks(np.arange(0.990,1.005,0.005))\n",
    "ax2.set_yticks(np.arange(0.987,1.005,0.001), minor=True)\n",
    "ax2.set_xticks(np.arange(xlim[0],xlim[1]+1,5))\n",
    "ax2.set_xticks(np.arange(xlim[0],xlim[1],1), minor=True)\n",
    "fig.tight_layout()\n",
    "fig.subplots_adjust(hspace=.05)\n",
    "plt.savefig('telluric_basis.png')"
   ]
  },
  {
   "cell_type": "code",
   "execution_count": null,
   "metadata": {},
   "outputs": [],
   "source": [
    "r = 56\n",
    "xlim = [5880,5910]\n",
    "fig, (ax1, ax2) = plt.subplots(2, 1, gridspec_kw = {'height_ratios':[1, 1]}, \n",
    "                               figsize=(8,5), sharex=True)\n",
    "ax1.plot(np.exp(results_51peg.tellurics_template_xs[r]),\n",
    "       np.exp(results_51peg.tellurics_template_ys[r]), c='k')\n",
    "for k in range(results_51peg.tellurics_K[r]):\n",
    "    ax2.plot(np.exp(results_51peg.tellurics_template_xs[r]), \n",
    "            np.exp(results_51peg.tellurics_basis_vectors[r][k]) - 0.1*k)\n",
    "ax1.set_xlim(xlim)\n",
    "ax1.set_ylim([0.9,1.02])\n",
    "ax2.set_xlim(xlim)\n",
    "ax1.set_ylabel('Template Spectrum', fontsize=14)\n",
    "ax2.set_xlabel(r'Wavelength ($\\AA$)', fontsize=14)\n",
    "ax2.set_ylabel(r'Basis Vectors + $\\Delta$', fontsize=14)\n",
    "ax2.set_yticks(np.arange(0.7,1.1,0.1))\n",
    "ax2.set_yticks(np.arange(0.7,1.1,0.02), minor=True)\n",
    "ax2.set_xticks(np.arange(xlim[0],xlim[1]+1,5))\n",
    "ax2.set_xticks(np.arange(xlim[0],xlim[1],1), minor=True)\n",
    "fig.tight_layout()\n",
    "fig.subplots_adjust(hspace=.05)\n",
    "plt.savefig('telluric_basis2.png')\n",
    "plt.savefig('telluric_basis2.pdf')"
   ]
  },
  {
   "cell_type": "markdown",
   "metadata": {},
   "source": [
    "### FIGURE: telluric basis weights"
   ]
  },
  {
   "cell_type": "code",
   "execution_count": null,
   "metadata": {},
   "outputs": [],
   "source": [
    "fig, axes = plt.subplots(1, 3, figsize=(15,5))\n",
    "jan1_2003 = 2452640.5\n",
    "for k,ax in enumerate(axes):\n",
    "    ax.plot((results_51peg.dates - jan1_2003) % 365., results_51peg.tellurics_basis_weights[r][:,k], 'k.')\n",
    "    ax.set_xticks([152, 182, 213, 244, 274, 305])\n",
    "    ax.set_xticklabels(['June', 'July', 'Aug', 'Sept', 'Oct', 'Nov'])\n",
    "    ax.set_ylim([-0.8,0.4])"
   ]
  },
  {
   "cell_type": "code",
   "execution_count": null,
   "metadata": {},
   "outputs": [],
   "source": [
    "fig, axes = plt.subplots(1, 3, figsize=(15,5))\n",
    "for k,ax in enumerate(axes):\n",
    "    ax.plot(results_51peg.dates - 2450000., results_51peg.tellurics_basis_weights[r][:,k], 'k.')\n",
    "    #ax.set_xticks([152, 182, 213, 244, 274, 305])\n",
    "    #ax.set_xticklabels(['June', 'July', 'Aug', 'Sept', 'Oct', 'Nov'])\n",
    "    ax.set_ylim([-0.8,0.4])"
   ]
  },
  {
   "cell_type": "markdown",
   "metadata": {},
   "source": [
    "### FIGURE: tellurics compared to standard star"
   ]
  },
  {
   "cell_type": "code",
   "execution_count": null,
   "metadata": {},
   "outputs": [],
   "source": [
    "from wobble.utils import fit_continuum\n",
    "from astropy.io import fits\n",
    "r = 63\n",
    "xlim = [6275,6295]"
   ]
  },
  {
   "cell_type": "code",
   "execution_count": null,
   "metadata": {},
   "outputs": [],
   "source": [
    "spec_file = '/Users/mbedell/python/wobble/data/telluric/HARPS.2009-05-09T23:40:43.280_e2ds_A.fits'\n",
    "wave_file = '/Users/mbedell/python/wobble/data/telluric/HARPS.2009-05-09T20:24:26.952_wave_A.fits'\n",
    "sp = fits.open(spec_file)\n",
    "flux = sp[0].data\n",
    "sp2 = fits.open(wave_file)\n",
    "wave = sp2[0].data\n",
    "snr = sp[0].header['HIERARCH ESO DRS SPE EXT SN{0}'.format(str(int(r)))]\n",
    "am = sp[0].header['AIRMASS']"
   ]
  },
  {
   "cell_type": "code",
   "execution_count": null,
   "metadata": {},
   "outputs": [],
   "source": [
    "am"
   ]
  },
  {
   "cell_type": "code",
   "execution_count": null,
   "metadata": {},
   "outputs": [],
   "source": [
    "o = 57\n",
    "wave2,flux2 = np.exp(results_51peg.tellurics_template_xs[r]), \\\n",
    "              np.exp(results_51peg.tellurics_template_ys[r] * am)\n",
    "wave1,flux1 = wave[r][:1500], flux[r][:1500] # HACK\n",
    "ivars1 = np.zeros_like(flux1) + snr**2 # HACK\n",
    "flux1 = np.exp(np.log(flux1) - fit_continuum(np.log(wave1), np.log(flux1), ivars1))"
   ]
  },
  {
   "cell_type": "code",
   "execution_count": null,
   "metadata": {},
   "outputs": [],
   "source": [
    "fig, (ax1, ax2) = plt.subplots(2, 1, gridspec_kw = {'height_ratios':[1, 1]}, \n",
    "                               figsize=(8,5), sharex=True)\n",
    "ax2.plot(wave1,flux1+0.012,color=DATA_COLOR,alpha=0.6,label='telluric standard star')\n",
    "ax1.plot(wave2,flux2,color=MODEL_T_COLOR,alpha=0.9,label='wobble telluric model')\n",
    "ax2.set_xlim(xlim)\n",
    "ax2.set_xlabel(r'Wavelength ($\\AA$)', fontsize=16)\n",
    "ax1.set_ylabel(' ', fontsize=16) # hack to leave space for shared label\n",
    "ax1.legend(loc='lower right', fontsize=14)\n",
    "ax2.legend(loc='lower right', fontsize=14)\n",
    "ax2.set_xticks(np.arange(xlim[0],xlim[1]+1,5))\n",
    "ax2.set_xticks(np.arange(xlim[0],xlim[1],1), minor=True)\n",
    "ax1.set_ylim([0.58,1.05])\n",
    "ax2.set_ylim([0.58,1.05])\n",
    "fig.text(0.01, 0.6, 'Normalized Flux', fontsize=16, rotation=90, verticalalignment='center')\n",
    "fig.tight_layout()\n",
    "fig.subplots_adjust(hspace=.05)\n",
    "fig.savefig('telluric_standard.png')\n",
    "fig.savefig('telluric_standard.pdf')"
   ]
  },
  {
   "cell_type": "markdown",
   "metadata": {},
   "source": [
    "## quiet M star:"
   ]
  },
  {
   "cell_type": "code",
   "execution_count": null,
   "metadata": {},
   "outputs": [],
   "source": [
    "results_barnards = wobble.Results(filename='/Users/mbedell/python/wobble/results/results_barnards_Kstar0_Kt0.hdf5')"
   ]
  },
  {
   "cell_type": "markdown",
   "metadata": {},
   "source": [
    "### FIGURE: data and models for random epoch"
   ]
  },
  {
   "cell_type": "code",
   "execution_count": null,
   "metadata": {},
   "outputs": [],
   "source": [
    "o = [12,53,67]\n",
    "r = np.arange(63)[np.isin(results_barnards.orders,o)] # index into results to get desired orders\n",
    "e = 54 # epoch\n",
    "n = np.where(results_barnards.epochs == e)[0][0] # index into results to get desired epoch\n",
    "\n",
    "data_barnards = wobble.Data('barnards_e2ds.hdf5', filepath='/Users/mbedell/python/wobble/data/', \n",
    "                   orders=o, epochs=[e])\n",
    "\n",
    "xs = np.exp(data_barnards.xs)\n",
    "ys = np.exp(data_barnards.ys)\n",
    "mask = np.array(data_barnards.ivars) <= 1.e-8"
   ]
  },
  {
   "cell_type": "code",
   "execution_count": null,
   "metadata": {},
   "outputs": [],
   "source": [
    "xstart = [4095, 5728, 6548]\n",
    "xend = [4115, 5748, 6568]"
   ]
  },
  {
   "cell_type": "code",
   "execution_count": null,
   "metadata": {},
   "outputs": [],
   "source": [
    "fig, axes = plt.subplots(6, 1, gridspec_kw = {'height_ratios':[4, 1, 4, 1, 4, 1]}, figsize=(10,16), sharex=False)\n",
    "for i,r0 in enumerate(r):\n",
    "    ax, ax2 = axes[2*i], axes[2*i+1]\n",
    "    xs = np.ravel(np.exp(data_barnards.xs[i]))\n",
    "    ys = np.ravel(np.exp(data_barnards.ys[i]))\n",
    "    mask = np.ravel(data_barnards.ivars[i]) <= 1.e-8\n",
    "    resids = ys - np.exp(results_barnards.star_ys_predicted[r0][n] \n",
    "                            + results_barnards.tellurics_ys_predicted[r0][n])\n",
    "    ax.scatter(xs, ys, marker=\".\", alpha=0.5, c=DATA_COLOR, label='data', s=40)\n",
    "    ax.scatter(xs[mask], ys[mask], marker=\".\", alpha=1., c='white', s=20)\n",
    "    ax.plot(xs, np.exp(results_barnards.star_ys_predicted[r0][n]), \n",
    "                color=MODEL_STAR_COLOR, label='star model', lw=1.8, alpha=0.85)\n",
    "    ax.plot(xs, np.exp(results_barnards.tellurics_ys_predicted[r0][n]), \n",
    "                color=MODEL_T_COLOR, label='tellurics model', lw=1.8, alpha=0.85)\n",
    "\n",
    "    ax2.scatter(xs, resids, marker=\".\", alpha=0.5, c=DATA_COLOR, s=40)\n",
    "    ax2.scatter(xs[mask], resids[mask], marker=\".\", alpha=1., c='white', s=20)\n",
    "    \n",
    "\n",
    "    \n",
    "    ax.set_ylim([0.35,1.15])\n",
    "    ax.set_yticks(np.arange(0.4,1.2,0.1))\n",
    "    ax.set_yticks(np.arange(0.35,1.2,0.05), minor=True)\n",
    "    if i==1:\n",
    "        ax.set_ylim([0.4,1.25])\n",
    "        ax.set_yticks(np.arange(0.4,1.4,0.2))\n",
    "        ax.set_yticks(np.arange(0.4,1.2,0.05), minor=True)        \n",
    "    if i==0:\n",
    "        ax.set_ylim([0.0,1.25])\n",
    "        ax.set_yticks(np.arange(0.0,1.4,0.2))\n",
    "        ax.set_yticks(np.arange(0.0,1.2,0.05), minor=True)\n",
    "    ax.set_xlim([xstart[i],xend[i]])\n",
    "    ax.set_xticks(np.arange(round(xstart[i] + 5,-1), xend[i], 5))\n",
    "    ax.set_xticks(np.arange(xstart[i], xend[i]+1, 1), minor=True)\n",
    "    ax2.set_ylim([-0.07, 0.07])\n",
    "    ax2.set_yticks(np.arange(-0.05,0.06,0.05))\n",
    "    ax2.set_yticks(np.arange(-0.07,0.08,0.01), minor=True)\n",
    "    if i==0:\n",
    "        ax2.set_ylim([-0.5, 0.5])\n",
    "        ax2.set_yticks(np.arange(-0.4,0.5,0.2))\n",
    "        ax2.set_yticks(np.arange(-0.5,0.5,0.1), minor=True)\n",
    "    ax2.set_xlim([xstart[i],xend[i]])\n",
    "    ax2.set_xticks(np.arange(round(xstart[i] + 5,-1), xend[i], 10))\n",
    "    ax2.set_xticks(np.arange(xstart[i], xend[i]+1, 1), minor=True)\n",
    "    ax.set_xticklabels('')\n",
    "    ax.set_ylabel('Normalized Flux', fontsize=12)\n",
    "    ax2.set_ylabel('Residuals', fontsize=12)\n",
    "    \n",
    "ax2.set_xlabel(r'Wavelength ($\\AA$)', fontsize=14)\n",
    "fig.tight_layout()\n",
    "#fig.subplots_adjust(hspace=0.05)\n",
    "plt.savefig('barnards_multispectrum.png')\n",
    "plt.savefig('barnards_multispectrum.pdf')"
   ]
  },
  {
   "cell_type": "markdown",
   "metadata": {},
   "source": [
    "### FIGURE: tellurics zoom-in"
   ]
  },
  {
   "cell_type": "code",
   "execution_count": null,
   "metadata": {},
   "outputs": [],
   "source": [
    "o = 63 # order\n",
    "r = np.where(results_barnards.orders == o)[0][0] # index into results to get desired order\n",
    "e = 20 # epoch\n",
    "n = np.where(results_barnards.epochs == e)[0][0] # index into results to get desired epoch\n",
    "\n",
    "data_barnards = wobble.Data('barnards_e2ds.hdf5', filepath='/Users/mbedell/python/wobble/data/', \n",
    "                   orders=[o], epochs=[e])\n",
    "\n",
    "xs_barnards = np.exp(data_barnards.xs[0][0])\n",
    "ys_barnards = np.exp(data_barnards.ys[0][0])\n",
    "mask_barnards = data_barnards.ivars[0][0] <= 1.e-8\n",
    "predicted_barnards = np.exp(results_barnards.star_ys_predicted[r][n] \n",
    "                            + results_barnards.tellurics_ys_predicted[r][n])\n",
    "resids_barnards = ys_barnards - predicted_barnards"
   ]
  },
  {
   "cell_type": "code",
   "execution_count": null,
   "metadata": {},
   "outputs": [],
   "source": [
    "data_barnards = wobble.Data('barnards_e2ds.hdf5', filepath='/Users/mbedell/python/wobble/data/', \n",
    "                   orders=[o])\n",
    "print(results_barnards.epochs[results_barnards.airms > 1.6])"
   ]
  },
  {
   "cell_type": "code",
   "execution_count": null,
   "metadata": {},
   "outputs": [],
   "source": [
    "print(results_barnards.airms[n])"
   ]
  },
  {
   "cell_type": "code",
   "execution_count": null,
   "metadata": {},
   "outputs": [],
   "source": [
    "o = 63 # order\n",
    "r1 = np.where(results_51peg.orders == o)[0][0] # index into results to get desired order\n",
    "e = 41 # epoch\n",
    "n1 = np.where(results_51peg.epochs == e)[0][0] # index into results to get desired epoch\n",
    "\n",
    "data_51peg = wobble.Data('51peg_e2ds.hdf5', filepath='/Users/mbedell/python/wobble/data/', \n",
    "                   orders=[o], epochs=[e])\n",
    "\n",
    "xs_51peg = np.exp(data_51peg.xs[0][0])\n",
    "ys_51peg = np.exp(data_51peg.ys[0][0])\n",
    "mask_51peg = data_51peg.ivars[0][0] <= 1.e-8\n",
    "predicted_51peg = np.exp(results_51peg.star_ys_predicted[r1][n1] \n",
    "                            + results_51peg.tellurics_ys_predicted[r1][n1])\n",
    "resids_51peg = ys_51peg - predicted_51peg"
   ]
  },
  {
   "cell_type": "code",
   "execution_count": null,
   "metadata": {},
   "outputs": [],
   "source": [
    "print(results_51peg.airms[n1])"
   ]
  },
  {
   "cell_type": "code",
   "execution_count": null,
   "metadata": {},
   "outputs": [],
   "source": [
    "fig, ((ax,ax3), (ax2,ax4)) = plt.subplots(2, 2, gridspec_kw = {'height_ratios':[5, 1]}, figsize=(12,6), sharex=True)\n",
    "\n",
    "ax.scatter(xs_51peg, ys_51peg, marker=\".\", alpha=0.5, c=DATA_COLOR, label='data', s=40)\n",
    "ax.scatter(xs_51peg[mask_51peg], ys_51peg[mask_51peg], marker=\".\", alpha=1., c='white', s=20)\n",
    "ax.plot(xs_51peg, predicted_51peg, lw=1.5, alpha=0.7, color='k')\n",
    "ax.plot(xs_51peg, np.exp(results_51peg.star_ys_predicted[r1][n1]) + 0.6, \n",
    "                color=MODEL_STAR_COLOR, label='star model', lw=1.5, alpha=0.8)\n",
    "ax.plot(xs_51peg, np.exp(results_51peg.tellurics_ys_predicted[r1][n1]) + 1.2, \n",
    "                color=MODEL_T_COLOR, label='tellurics model', lw=2.5, alpha=0.8)\n",
    "ax.set_ylabel('Normalized Flux + const.', fontsize=14, labelpad=12)\n",
    "\n",
    "ax2.scatter(xs_51peg, resids_51peg, marker=\".\", alpha=0.5, c=DATA_COLOR, s=40)\n",
    "ax2.scatter(xs_51peg[mask_51peg], resids_51peg[mask_51peg], marker=\".\", alpha=1., c='white', s=20)\n",
    "ax2.set_xlabel(r'Wavelength ($\\AA$)', fontsize=14)\n",
    "ax2.set_ylabel('Residuals', fontsize=14)\n",
    "\n",
    "ax3.scatter(xs_barnards, ys_barnards - 0.1, marker=\".\", alpha=0.5, c=DATA_COLOR, label='data', s=40)\n",
    "ax3.scatter(xs_barnards[mask_barnards], ys_barnards[mask_barnards] - 0.1, marker=\".\", alpha=1., c='white', s=20)\n",
    "ax3.plot(xs_barnards, predicted_barnards - 0.1, lw=1.5, alpha=0.7, color='k')\n",
    "ax3.plot(xs_barnards, np.exp(results_barnards.star_ys_predicted[r][n]) + 0.6, \n",
    "                color=MODEL_STAR_COLOR, label='star model', lw=1.5, alpha=0.8)\n",
    "ax3.plot(xs_barnards, np.exp(results_barnards.tellurics_ys_predicted[r][n]) + 1.2, \n",
    "                color=MODEL_T_COLOR, label='tellurics model', lw=2.5, alpha=0.8)\n",
    "\n",
    "ax4.scatter(xs_barnards, resids_barnards, marker=\".\", alpha=0.5, c=DATA_COLOR, s=40)\n",
    "ax4.scatter(xs_barnards[mask_barnards], resids_barnards[mask_barnards], marker=\".\", alpha=1., c='white', s=20)\n",
    "ax4.set_xlabel(r'Wavelength ($\\AA$)', fontsize=14)\n",
    "\n",
    "ax.set_ylim([0.15,2.45])\n",
    "ax.set_yticks(np.arange(0.2,2.45,0.2))\n",
    "ax.set_yticks(np.arange(0.15,2.45,0.05), minor=True)\n",
    "ax3.set_ylim([0.15,2.45])\n",
    "ax3.set_yticks(np.arange(0.2,2.45,0.2))\n",
    "ax3.set_yticks(np.arange(0.15,2.45,0.05), minor=True)\n",
    "ax3.set_yticklabels('')\n",
    "\n",
    "ax2.set_ylim([-0.06, 0.06])\n",
    "ax2.set_yticks(np.arange(-0.05,0.06,0.05))\n",
    "ax2.set_yticks(np.arange(-0.06,0.06,0.01), minor=True)\n",
    "ax4.set_ylim([-0.06, 0.06])\n",
    "ax4.set_yticks(np.arange(-0.05,0.06,0.05))\n",
    "ax4.set_yticks(np.arange(-0.06,0.06,0.01), minor=True)\n",
    "ax4.set_yticklabels('')\n",
    "\n",
    "\n",
    "ax.set_xlim([6301,6315.5])\n",
    "ax.set_xticks(np.arange(6302, 6315, 2))\n",
    "ax.set_xticks(np.arange(6301, 6316, 0.5), minor=True)\n",
    "\n",
    "ax.text(6302.2, 2.26, 'tellurics model', fontsize=14)\n",
    "ax.text(6302.2, 1.66, 'star model', fontsize=14)\n",
    "ax.text(6302.2, 1.06, 'data & composite model', fontsize=14)\n",
    "ax.set_title('51 Peg', fontsize=16)\n",
    "ax3.set_title('Barnard\\'s Star', fontsize=16)\n",
    "\n",
    "#ax.legend(fontsize=12)\n",
    "fig.tight_layout()\n",
    "fig.subplots_adjust(hspace=0.05, wspace=0.02)\n",
    "plt.savefig('telluric_comparison.png')\n",
    "plt.savefig('telluric_comparison.pdf')"
   ]
  },
  {
   "cell_type": "markdown",
   "metadata": {},
   "source": [
    "### FIGURE: comparison to PHOENIX model"
   ]
  },
  {
   "cell_type": "code",
   "execution_count": null,
   "metadata": {},
   "outputs": [],
   "source": [
    "from astropy.io import fits\n",
    "#hdul = fits.open('/Users/mbedell/python/wobble/data/lte03300-5.00-0.5.PHOENIX-ACES-AGSS-COND-2011-HiRes.fits')\n",
    "#model_ys_3300k = np.copy(hdul[0].data)\n",
    "hdul = fits.open('/Users/mbedell/python/wobble/data/lte03200-5.00-0.5.PHOENIX-ACES-AGSS-COND-2011-HiRes.fits')\n",
    "model_ys_3200k = np.copy(hdul[0].data)\n",
    "#hdul = fits.open('/Users/mbedell/python/wobble/data/lte03200-5.50-0.5.PHOENIX-ACES-AGSS-COND-2011-HiRes.fits')\n",
    "#model_ys_55logg = np.copy(hdul[0].data)\n",
    "#hdul = fits.open('/Users/mbedell/python/wobble/data/lte03200-4.50-0.5.PHOENIX-ACES-AGSS-COND-2011-HiRes.fits')\n",
    "#model_ys_45logg = np.copy(hdul[0].data)\n",
    "#hdul = fits.open('/Users/mbedell/python/wobble/data/lte03200-4.00-0.5.PHOENIX-ACES-AGSS-COND-2011-HiRes.fits')\n",
    "#model_ys_40logg = np.copy(hdul[0].data)\n",
    "hdul = fits.open('/Users/mbedell/python/wobble/data/WAVE_PHOENIX-ACES-AGSS-COND-2011.fits')\n",
    "model_xs = np.copy(hdul[0].data)"
   ]
  },
  {
   "cell_type": "code",
   "execution_count": null,
   "metadata": {},
   "outputs": [],
   "source": [
    "o = 24 # order\n",
    "r = np.where(results_barnards.orders == o)[0][0] # index into results to get desired order\n",
    "e = 216 # epoch\n",
    "n = np.where(results_barnards.epochs == e)[0][0] # index into results to get desired epoch\n",
    "\n",
    "data_barnards = wobble.Data('barnards_e2ds.hdf5', filepath='/Users/mbedell/python/wobble/data/', \n",
    "                   orders=[o], epochs=[e])\n",
    "\n",
    "xs = np.exp(data_barnards.xs[0][0])\n",
    "ys = np.exp(data_barnards.ys[0][0])\n",
    "mask = data_barnards.ivars[0][0] <= 1.e-8\n",
    "resids = ys - np.exp(results_barnards.star_ys_predicted[r][n] \n",
    "                            + results_barnards.tellurics_ys_predicted[r][n])"
   ]
  },
  {
   "cell_type": "code",
   "execution_count": null,
   "metadata": {},
   "outputs": [],
   "source": [
    "v_sys = 219.e3 # from eyeballing the Balmer region (4020-4050A)"
   ]
  },
  {
   "cell_type": "code",
   "execution_count": null,
   "metadata": {},
   "outputs": [],
   "source": [
    "fig = plt.figure(figsize=(12,5))\n",
    "ax = fig.add_subplot(111)\n",
    "ax.plot(xs / doppler(v_sys), ys, 'k.', ms=5, alpha=0.6, label='data')\n",
    "ax.plot(xs / doppler(v_sys), np.exp(results_barnards.star_ys_predicted[r][n]), \n",
    "                color=MODEL_STAR_COLOR, lw=1.5, alpha=0.9, label='wobble star model')\n",
    "ax.plot(model_xs, model_ys_3200k/0.75e13, c=COLOR3, lw=1.5, alpha=0.9, label='PHOENIX model')\n",
    "ax.set_xlim([4450,4465])\n",
    "\n",
    "\n",
    "ax.set_xticks(np.arange(4450, 4466, 5))\n",
    "ax.set_xticks(np.arange(4450, 4465, 0.5), minor=True)\n",
    "ax.set_ylim([-0.02,1.4])\n",
    "ax.set_yticks(np.arange(0.0,1.6,0.2))\n",
    "ax.set_yticks(np.arange(0.0,1.5,0.05), minor=True)\n",
    "ax.legend(fontsize=14)\n",
    "\n",
    "ax.set_xlabel(r'Wavelength ($\\AA$)', fontsize=14)\n",
    "ax.set_ylabel('Normalized Flux', fontsize=14);\n",
    "plt.savefig('barnards_model.png')\n",
    "plt.savefig('barnards_model.pdf');"
   ]
  },
  {
   "cell_type": "markdown",
   "metadata": {},
   "source": [
    "### FIGURE: time series"
   ]
  },
  {
   "cell_type": "code",
   "execution_count": null,
   "metadata": {},
   "outputs": [],
   "source": [
    "from astroquery.gaia import Gaia\n",
    "from astropy.coordinates import SkyCoord\n",
    "import astropy.units as u\n",
    "from astropy.time import Time\n",
    "\n",
    "coord = SkyCoord(ra=269.4486, dec=4.7379807, unit=(u.degree, u.degree), frame='icrs')\n",
    "width = u.Quantity(0.01, u.degree)\n",
    "height = u.Quantity(0.01, u.degree)\n",
    "r = Gaia.query_object_async(coordinate=coord, width=width, height=height)\n",
    "star = r[r['source_id'] == 4472832130942575872]\n",
    "rv_gaia = -110.51 * u.km / u.s # from Gaia DR2 docs"
   ]
  },
  {
   "cell_type": "code",
   "execution_count": null,
   "metadata": {},
   "outputs": [],
   "source": [
    "pm = np.sqrt(star['pmra'][0]**2 + star['pmdec'][0]**2)\n",
    "pm = (pm * u.mas / u.yr).to(u.arcsec / u.yr)\n",
    "dist = (1./star['parallax'][0] * u.kpc).to(u.pc)\n",
    "vt = (4.74 * dist * pm).value * u.km / u.s # decompose doesn't work here\n",
    "min_dist = dist/np.sqrt(1. + rv_gaia**2/vt**2)\n",
    "v = np.sqrt(rv_gaia**2 + vt**2)\n",
    "obstime = Time(star['ref_epoch'][0], format='decimalyear')\n",
    "min_dist_time = obstime + np.sqrt(dist**2 - min_dist**2)/v"
   ]
  },
  {
   "cell_type": "code",
   "execution_count": null,
   "metadata": {},
   "outputs": [],
   "source": [
    "def predict_rv(date):\n",
    "    t = (date - min_dist_time).jd * u.day # now relative to time of closest approach\n",
    "    x = v**2 * t/np.sqrt(v**2 * t**2 + min_dist**2)\n",
    "    return x.to(u.m / u.s)"
   ]
  },
  {
   "cell_type": "code",
   "execution_count": null,
   "metadata": {},
   "outputs": [],
   "source": [
    "predict_dates = np.append(2454000., results_barnards.dates)\n",
    "predict_dates = np.append(predict_dates, 2457000.)\n",
    "predicted_rvs = np.array([predict_rv(d).value for d in Time(predict_dates, format='jd')])"
   ]
  },
  {
   "cell_type": "code",
   "execution_count": null,
   "metadata": {},
   "outputs": [],
   "source": [
    "# this part isn't needed anymore because I cut out all post-upgrade spectra when running:\n",
    "post_upgrade = results_barnards.dates >= 2457174.5 # June 2015\n",
    "pre_upgrade = results_barnards.dates < 2457174.5"
   ]
  },
  {
   "cell_type": "code",
   "execution_count": null,
   "metadata": {},
   "outputs": [],
   "source": [
    "data_barnards = wobble.Data('barnards_e2ds.hdf5', filepath='/Users/mbedell/python/wobble/data/', \n",
    "                   orders=[o], min_snr=0.)"
   ]
  },
  {
   "cell_type": "code",
   "execution_count": null,
   "metadata": {},
   "outputs": [],
   "source": [
    "rvs = results_barnards.star_time_rvs + results_barnards.bervs - results_barnards.drifts\n",
    "pipeline_rvs = results_barnards.pipeline_rvs + results_barnards.bervs\n",
    "sigs = results_barnards.star_time_sigmas\n",
    "pipeline_sigs = results_barnards.pipeline_sigmas\n",
    "\n",
    "wobble_resids = rvs - predicted_rvs[1:-1]\n",
    "wobble_resids -= np.median(wobble_resids)\n",
    "pipeline_resids = pipeline_rvs - predicted_rvs[1:-1]\n",
    "pipeline_resids -= np.median(pipeline_resids)"
   ]
  },
  {
   "cell_type": "code",
   "execution_count": null,
   "metadata": {},
   "outputs": [],
   "source": [
    "fig, (ax, ax2) = plt.subplots(2, 1, gridspec_kw = {'height_ratios':[3, 1]}, \n",
    "                              figsize=(8,6), sharex=True)\n",
    "ax.plot(predict_dates - 2450000, predicted_rvs - np.mean(predicted_rvs), \n",
    "        c=COLOR3, label='predicted RV')\n",
    "\n",
    "ax.errorbar(results_barnards.dates - 2450000, pipeline_rvs - np.mean(pipeline_rvs), \n",
    "             pipeline_sigs, fmt='s', color=MODEL_T_COLOR, alpha=0.8, ms=5, elinewidth=1, label='HARPS pipeline')\n",
    "ax.errorbar(results_barnards.dates - 2450000, rvs - np.mean(rvs), \n",
    "             sigs, fmt='o', color=DATA_COLOR, alpha=0.5, ms=5, elinewidth=1, label='wobble')\n",
    "ax.set_ylabel(r'RV (m s$^{-1}$)', fontsize=16)\n",
    "\n",
    "ax2.axhline(0.0, c=COLOR3)\n",
    "ax2.errorbar(results_barnards.dates - 2450000, pipeline_resids, \n",
    "             pipeline_sigs, fmt='s', color=MODEL_T_COLOR, alpha=0.8, ms=5, elinewidth=1)\n",
    "ax2.errorbar(results_barnards.dates - 2450000, wobble_resids, \n",
    "             sigs, fmt='o', color=DATA_COLOR, alpha=0.5, ms=5, elinewidth=1)\n",
    "\n",
    "ax2.set_xlabel('MJD', fontsize=16)\n",
    "ax2.set_ylabel('Residuals', fontsize=14)\n",
    "\n",
    "ax2.set_xlim([4000,6600])\n",
    "\n",
    "ax.legend(fontsize=14)\n",
    "fig.tight_layout()\n",
    "fig.subplots_adjust(hspace=0.05)\n",
    "plt.savefig('barnards_rvs.png')\n",
    "plt.savefig('barnards_rvs.pdf');"
   ]
  },
  {
   "cell_type": "code",
   "execution_count": null,
   "metadata": {},
   "outputs": [],
   "source": [
    "np.std(pipeline_resids)#, np.std(pipeline_resids_post)"
   ]
  },
  {
   "cell_type": "code",
   "execution_count": null,
   "metadata": {},
   "outputs": [],
   "source": [
    "np.std(wobble_resids)#, np.std(wobble_resids_post)"
   ]
  }
 ],
 "metadata": {
  "kernelspec": {
   "display_name": "Python 3",
   "language": "python",
   "name": "python3"
  },
  "language_info": {
   "codemirror_mode": {
    "name": "ipython",
    "version": 3
   },
   "file_extension": ".py",
   "mimetype": "text/x-python",
   "name": "python",
   "nbconvert_exporter": "python",
   "pygments_lexer": "ipython3",
   "version": "3.6.0"
  }
 },
 "nbformat": 4,
 "nbformat_minor": 2
}
